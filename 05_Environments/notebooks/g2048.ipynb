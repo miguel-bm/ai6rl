{
 "cells": [
  {
   "cell_type": "code",
   "execution_count": 18,
   "metadata": {},
   "outputs": [],
   "source": [
    "import gym\n",
    "from gym import spaces\n",
    "from gym.utils import seeding\n",
    "import numpy as np\n",
    "from os import path\n",
    "from IPython.display import clear_output\n",
    "import matplotlib.pyplot as plt"
   ]
  },
  {
   "cell_type": "code",
   "execution_count": 2,
   "metadata": {},
   "outputs": [],
   "source": [
    "np_random, seed = seeding.np_random(42)"
   ]
  },
  {
   "cell_type": "code",
   "execution_count": 3,
   "metadata": {},
   "outputs": [
    {
     "name": "stdout",
     "output_type": "stream",
     "text": [
      "[[0 1]\n",
      " [2 3]]\n"
     ]
    }
   ],
   "source": [
    "a = np.arange(4).reshape((2,2))\n",
    "print(a)"
   ]
  },
  {
   "cell_type": "code",
   "execution_count": 4,
   "metadata": {},
   "outputs": [
    {
     "data": {
      "text/plain": [
       "[0]"
      ]
     },
     "execution_count": 4,
     "metadata": {},
     "output_type": "execute_result"
    }
   ],
   "source": [
    "[0, 1, 2, 3][:1]"
   ]
  },
  {
   "cell_type": "code",
   "execution_count": 5,
   "metadata": {},
   "outputs": [
    {
     "name": "stdout",
     "output_type": "stream",
     "text": [
      "[array([0, 1]), array([2, 3])]\n"
     ]
    }
   ],
   "source": [
    "print([row for row in a])"
   ]
  },
  {
   "cell_type": "code",
   "execution_count": 6,
   "metadata": {},
   "outputs": [],
   "source": [
    "class g2048(gym.Env):\n",
    "    metadata = {\n",
    "        'render.modes' : ['human', 'rgb_array'],\n",
    "        'video.frames_per_second' : 30\n",
    "    }\n",
    "\n",
    "    def __init__(self):\n",
    "        self.board_size = np.array([4, 4])\n",
    "\n",
    "        self.action_space = spaces.Discrete(4)\n",
    "        self.observation_space = spaces.Discrete(np.prod(self.board_size))\n",
    "\n",
    "        self.seed()\n",
    "\n",
    "    def seed(self, seed=None):\n",
    "        self.np_random, seed = seeding.np_random(seed if seed is not None else np.random.seed())\n",
    "        return [seed]\n",
    "\n",
    "    def step(self, move):\n",
    "        assert int(move) in range(4)\n",
    "        old_state = self.state.copy()\n",
    "        old_full = np.sum(old_state == 0)\n",
    "        \n",
    "        rotated_state = np.rot90(old_state, move)\n",
    "        new_rotated_state = []\n",
    "        for i, row in enumerate(rotated_state):\n",
    "            zero_counter = 0\n",
    "            new_row = row.copy()\n",
    "            for j, value in enumerate(row):\n",
    "                if value == 0:\n",
    "                    zero_counter += 1\n",
    "                else:\n",
    "                    for k, kvalue in enumerate(new_row[:j]):\n",
    "                        if kvalue == 0:\n",
    "                            new_row[k] = value\n",
    "                            new_row[j] = 0\n",
    "                            break\n",
    "                        elif kvalue == value:\n",
    "                            new_row[k] = new_row[k] + 1\n",
    "                            new_row[j] = 0\n",
    "                            break\n",
    "            new_rotated_state.append(new_row)\n",
    "        self.state = np.rot90(np.array(new_rotated_state), 4-move)\n",
    "        \n",
    "        if (self.state == old_state).all():\n",
    "            reward = 0\n",
    "        else:\n",
    "            reward, _ = self._put_piece()\n",
    "        \n",
    "        if np.sum(self.state == 0) == 0:  # No empty positions\n",
    "            done = True\n",
    "        else:\n",
    "            done = False\n",
    "        \n",
    "        return self._get_obs(), reward, done, {}\n",
    "    \n",
    "    def reset(self):\n",
    "        self.state = np.zeros(self.board_size, dtype=np.int8)\n",
    "        self._put_piece()\n",
    "        self._put_piece()\n",
    "        return self._get_obs()\n",
    "\n",
    "    def _get_obs(self):\n",
    "        return self.state\n",
    "    \n",
    "    def _get_pos(self):\n",
    "        \"\"\"Select a random position in the state where there is no piece.\"\"\"\n",
    "        zero_pos = list(np.array(np.where(self.state == 0)).T)\n",
    "        return zero_pos[self.np_random.randint(len(zero_pos))]\n",
    "    \n",
    "    def _get_piece(self):\n",
    "        \"\"\"Select a piece value to be positioned.\"\"\"\n",
    "        return 1 if self.np_random.uniform() < 0.9 else 2\n",
    "    \n",
    "    def _put_piece(self):\n",
    "        \"\"\"Put piece with random value in empty position.\"\"\"\n",
    "        position = self._get_pos()\n",
    "        value = self._get_piece()\n",
    "        self.state[position[0]][position[1]] = value\n",
    "        return value, position\n",
    "\n",
    "    def render(self, mode='human'):\n",
    "\n",
    "        # TBD\n",
    "        \n",
    "        if self.viewer is None:\n",
    "            from gym.envs.classic_control import rendering\n",
    "            self.viewer = rendering.Viewer(500,500)\n",
    "            self.viewer.set_bounds(-2.2,2.2,-2.2,2.2)\n",
    "            rod = rendering.make_capsule(1, .2)\n",
    "            rod.set_color(.8, .3, .3)\n",
    "            self.pole_transform = rendering.Transform()\n",
    "            rod.add_attr(self.pole_transform)\n",
    "            self.viewer.add_geom(rod)\n",
    "            axle = rendering.make_circle(.05)\n",
    "            axle.set_color(0,0,0)\n",
    "            self.viewer.add_geom(axle)\n",
    "            fname = path.join(path.dirname(__file__), \"assets/clockwise.png\")\n",
    "            self.img = rendering.Image(fname, 1., 1.)\n",
    "            self.imgtrans = rendering.Transform()\n",
    "            self.img.add_attr(self.imgtrans)\n",
    "\n",
    "        self.viewer.add_onetime(self.img)\n",
    "        self.pole_transform.set_rotation(self.state[0] + np.pi/2)\n",
    "        if self.last_u:\n",
    "            self.imgtrans.scale = (-self.last_u/2, np.abs(self.last_u)/2)\n",
    "\n",
    "        return self.viewer.render(return_rgb_array = mode=='rgb_array')\n",
    "\n",
    "    def close(self):\n",
    "        if self.viewer:\n",
    "            self.viewer.close()\n",
    "            self.viewer = None\n"
   ]
  },
  {
   "cell_type": "code",
   "execution_count": 16,
   "metadata": {},
   "outputs": [
    {
     "name": "stdout",
     "output_type": "stream",
     "text": [
      "634.763\n"
     ]
    }
   ],
   "source": [
    "env = PendulumEnv()\n",
    "rews = []\n",
    "for tr in range(1000):\n",
    "    obs = env.reset()\n",
    "    done = False\n",
    "    total_reward = 0\n",
    "    while not done:\n",
    "        #print(obs)\n",
    "        action = np.random.choice([0, 1, 2, 3])\n",
    "        obs, reward, done, _ = env.step(action)\n",
    "        #clear_output(wait=True)\n",
    "        total_reward += reward\n",
    "    rews.append(total_reward)\n",
    "rews = np.array(rews)\n",
    "print(rews.mean())"
   ]
  },
  {
   "cell_type": "code",
   "execution_count": 19,
   "metadata": {},
   "outputs": [
    {
     "data": {
      "text/plain": [
       "(array([ 37., 159., 360.,  92., 192., 140.,   2.,   6.,  10.,   2.]),\n",
       " array([ 103. ,  265.9,  428.8,  591.7,  754.6,  917.5, 1080.4, 1243.3,\n",
       "        1406.2, 1569.1, 1732. ]),\n",
       " <a list of 10 Patch objects>)"
      ]
     },
     "execution_count": 19,
     "metadata": {},
     "output_type": "execute_result"
    },
    {
     "data": {
      "image/png": "[encoded data removed]",
      "text/plain": [
       "<Figure size 432x288 with 1 Axes>"
      ]
     },
     "metadata": {
      "needs_background": "light"
     },
     "output_type": "display_data"
    }
   ],
   "source": [
    "plt.hist(rews)"
   ]
  },
  {
   "cell_type": "code",
   "execution_count": 114,
   "metadata": {},
   "outputs": [
    {
     "name": "stdout",
     "output_type": "stream",
     "text": [
      "[1 3]\n"
     ]
    },
    {
     "data": {
      "text/plain": [
       "(array([[1, 0, 0, 0],\n",
       "        [0, 0, 0, 1],\n",
       "        [2, 0, 0, 0],\n",
       "        [0, 0, 0, 0]], dtype=int8), 1, False, {})"
      ]
     },
     "execution_count": 114,
     "metadata": {},
     "output_type": "execute_result"
    }
   ],
   "source": [
    "env.step(0)"
   ]
  },
  {
   "cell_type": "code",
   "execution_count": 115,
   "metadata": {},
   "outputs": [
    {
     "name": "stdout",
     "output_type": "stream",
     "text": [
      "[2 1]\n"
     ]
    },
    {
     "data": {
      "text/plain": [
       "(array([[1, 0, 0, 0],\n",
       "        [1, 0, 0, 0],\n",
       "        [2, 1, 0, 0],\n",
       "        [0, 0, 0, 0]], dtype=int8), 1, False, {})"
      ]
     },
     "execution_count": 115,
     "metadata": {},
     "output_type": "execute_result"
    }
   ],
   "source": [
    "env.step(0)"
   ]
  },
  {
   "cell_type": "code",
   "execution_count": 117,
   "metadata": {},
   "outputs": [
    {
     "name": "stdout",
     "output_type": "stream",
     "text": [
      "[1 0]\n"
     ]
    },
    {
     "data": {
      "text/plain": [
       "(array([[3, 1, 0, 0],\n",
       "        [1, 0, 0, 0],\n",
       "        [0, 0, 0, 0],\n",
       "        [0, 0, 0, 0]], dtype=int8), 1, False, {})"
      ]
     },
     "execution_count": 117,
     "metadata": {},
     "output_type": "execute_result"
    }
   ],
   "source": [
    "env.step(1)"
   ]
  },
  {
   "cell_type": "code",
   "execution_count": 118,
   "metadata": {},
   "outputs": [
    {
     "name": "stdout",
     "output_type": "stream",
     "text": [
      "[1 2]\n"
     ]
    },
    {
     "data": {
      "text/plain": [
       "(array([[0, 0, 0, 0],\n",
       "        [0, 0, 1, 0],\n",
       "        [3, 0, 0, 0],\n",
       "        [1, 1, 0, 0]], dtype=int8), 1, False, {})"
      ]
     },
     "execution_count": 118,
     "metadata": {},
     "output_type": "execute_result"
    }
   ],
   "source": [
    "env.step(3)"
   ]
  },
  {
   "cell_type": "code",
   "execution_count": 119,
   "metadata": {},
   "outputs": [
    {
     "name": "stdout",
     "output_type": "stream",
     "text": [
      "[2 2]\n"
     ]
    },
    {
     "data": {
      "text/plain": [
       "(array([[0, 0, 0, 0],\n",
       "        [1, 0, 0, 0],\n",
       "        [3, 0, 1, 0],\n",
       "        [2, 0, 0, 0]], dtype=int8), 1, False, {})"
      ]
     },
     "execution_count": 119,
     "metadata": {},
     "output_type": "execute_result"
    }
   ],
   "source": [
    "env.step(0)"
   ]
  },
  {
   "cell_type": "code",
   "execution_count": null,
   "metadata": {},
   "outputs": [],
   "source": []
  }
 ],
 "metadata": {
  "kernelspec": {
   "display_name": "Python 3",
   "language": "python",
   "name": "python3"
  },
  "language_info": {
   "codemirror_mode": {
    "name": "ipython",
    "version": 3
   },
   "file_extension": ".py",
   "mimetype": "text/x-python",
   "name": "python",
   "nbconvert_exporter": "python",
   "pygments_lexer": "ipython3",
   "version": "3.7.4"
  }
 },
 "nbformat": 4,
 "nbformat_minor": 4
}
